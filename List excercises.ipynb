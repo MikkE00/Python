{
 "cells": [
  {
   "cell_type": "code",
   "execution_count": 8,
   "metadata": {},
   "outputs": [
    {
     "name": "stdout",
     "output_type": "stream",
     "text": [
      "['table', 'chair', 'shelf', 'bed', 'sofa']\n",
      "['table', 'chair']\n",
      "Found the sofa!\n"
     ]
    }
   ],
   "source": [
    "furniture_list=[\"table\",\"chair\",'shelf','bed','sofa']\n",
    "print(furniture_list)\n",
    "print(furniture_list[:2])\n",
    "\n",
    "if 'sofa' in furniture_list:\n",
    "    print(\"Found the sofa!\")"
   ]
  },
  {
   "cell_type": "code",
   "execution_count": 23,
   "metadata": {},
   "outputs": [
    {
     "name": "stdout",
     "output_type": "stream",
     "text": [
      "631\n",
      "[8, 880, 353, 775, 801]\n",
      "2817\n"
     ]
    },
    {
     "data": {
      "text/plain": [
       "880"
      ]
     },
     "execution_count": 23,
     "metadata": {},
     "output_type": "execute_result"
    }
   ],
   "source": [
    "import random\n",
    "print(random.randint(1,1000))\n",
    "thrownDiceNumbers=[8,880,353,775,801]\n",
    "print(thrownDiceNumbers)\n",
    "print(sum(thrownDiceNumbers))\n",
    "max(thrownDiceNumbers)"
   ]
  },
  {
   "cell_type": "code",
   "execution_count": null,
   "metadata": {},
   "outputs": [],
   "source": []
  },
  {
   "cell_type": "code",
   "execution_count": null,
   "metadata": {},
   "outputs": [],
   "source": []
  }
 ],
 "metadata": {
  "kernelspec": {
   "display_name": "Python 3",
   "language": "python",
   "name": "python3"
  },
  "language_info": {
   "codemirror_mode": {
    "name": "ipython",
    "version": 3
   },
   "file_extension": ".py",
   "mimetype": "text/x-python",
   "name": "python",
   "nbconvert_exporter": "python",
   "pygments_lexer": "ipython3",
   "version": "3.12.0"
  }
 },
 "nbformat": 4,
 "nbformat_minor": 2
}
