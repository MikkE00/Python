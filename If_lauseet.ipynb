{
 "cells": [
  {
   "cell_type": "code",
   "execution_count": 13,
   "metadata": {},
   "outputs": [
    {
     "name": "stdout",
     "output_type": "stream",
     "text": [
      "Number1 is bigger than number2\n",
      "number1 is greater than or equal to number2\n",
      "Number1 is NOT equal to number2\n"
     ]
    }
   ],
   "source": [
    "number1 = 15\n",
    "number2 = 5\n",
    "\n",
    "if (number1==number2):\n",
    "    print(\"number1 and number2 are equal\")\n",
    "\n",
    "if number1>number2:\n",
    "    print(\"Number1 is bigger than number2\")\n",
    "\n",
    "if number1>=number2:\n",
    "    print(\"number1 is greater than or equal to number2\")\n",
    "\n",
    "if (number1!=number2):\n",
    "    print(\"Number1 is NOT equal to number2\")\n"
   ]
  },
  {
   "cell_type": "code",
   "execution_count": 29,
   "metadata": {},
   "outputs": [
    {
     "name": "stdout",
     "output_type": "stream",
     "text": [
      "Numbers are NOT equal!\n",
      "Number 2 is bigger than number 3\n",
      "Number 1 and number 3 are equal\n"
     ]
    }
   ],
   "source": [
    "number1=12\n",
    "number2=13\n",
    "number3=12\n",
    "\n",
    "if number1==number2==number3:\n",
    "    print(\"All numbers are equal\")\n",
    "else:\n",
    "    print(\"Numbers are NOT equal!\")\n",
    "\n",
    "if number1==number2 or number2==number3:\n",
    "    print(\"Number1 and number2 are equal OR number2 and number3 are equal\")\n",
    "\n",
    "if number3<number1>number2:\n",
    "    print(\"Number1 is greater THAN number2 and 3\")\n",
    "\n",
    "if  number1>number2:\n",
    "    print(\"Number1 is bigger than number 2\")\n",
    "elif number2>number3:\n",
    "    print(\"Number 2 is bigger than number 3\")\n",
    "\n",
    "if number1==number2:\n",
    "    print(\"Number1 and number2 are equal\")\n",
    "elif number1==number3:\n",
    "    print(\"Number 1 and number 3 are equal\")\n"
   ]
  },
  {
   "cell_type": "code",
   "execution_count": 34,
   "metadata": {},
   "outputs": [
    {
     "name": "stdout",
     "output_type": "stream",
     "text": [
      "name1 and name2 are NOT equal\n",
      "Name1 and name3 are equal\n"
     ]
    }
   ],
   "source": [
    "name1=\"John\"\n",
    "name2=\"Johnny\"\n",
    "name3=\"John\"\n",
    "\n",
    "if name1==name2:\n",
    "    print(\"Name1 and name2 are the same\")\n",
    "\n",
    "if name1!=name2:\n",
    "    print(\"name1 and name2 are NOT equal\")\n",
    "\n",
    "if name1==name2:\n",
    "    print(\"Name1 and name2 are equal\")\n",
    "elif name1==name3:\n",
    "    print(\"Name1 and name3 are equal\")"
   ]
  },
  {
   "cell_type": "code",
   "execution_count": null,
   "metadata": {},
   "outputs": [],
   "source": []
  }
 ],
 "metadata": {
  "kernelspec": {
   "display_name": "Python 3",
   "language": "python",
   "name": "python3"
  },
  "language_info": {
   "codemirror_mode": {
    "name": "ipython",
    "version": 3
   },
   "file_extension": ".py",
   "mimetype": "text/x-python",
   "name": "python",
   "nbconvert_exporter": "python",
   "pygments_lexer": "ipython3",
   "version": "3.12.0"
  }
 },
 "nbformat": 4,
 "nbformat_minor": 2
}
