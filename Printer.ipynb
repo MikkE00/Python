{
 "cells": [
  {
   "cell_type": "code",
   "execution_count": 15,
   "metadata": {},
   "outputs": [
    {
     "name": "stdout",
     "output_type": "stream",
     "text": [
      "Printer app\n",
      "This app is made by:  Mikael\n",
      "The value of number1 is  4\n",
      "The value of number2 is  7\n",
      "4 * 7 =  28\n",
      "4 + 7 =  11\n",
      "4 / 7 =  0.5714285714285714\n",
      "4 - 7 =  -3\n"
     ]
    }
   ],
   "source": [
    "creator= \"Mikael\"\n",
    "print(\"Printer app\")\n",
    "print(\"This app is made by: \",creator)\n",
    "\n",
    "number1=4\n",
    "number2=7\n",
    "\n",
    "print(\"The value of number1 is \",number1)\n",
    "print(\"The value of number2 is \", number2)\n",
    "\n",
    "multiplication=0\n",
    "multiplication=(number1*number2)\n",
    "print(\"4 * 7 = \",multiplication)\n",
    "\n",
    "addition=(number1+number2)\n",
    "print(\"4 + 7 = \", addition)\n",
    "\n",
    "division=(number1/number2)\n",
    "print(\"4 / 7 = \",division)\n",
    "\n",
    "subtraction=(number1-number2)\n",
    "print(\"4 - 7 = \", subtraction)"
   ]
  },
  {
   "cell_type": "code",
   "execution_count": null,
   "metadata": {},
   "outputs": [],
   "source": []
  },
  {
   "cell_type": "code",
   "execution_count": null,
   "metadata": {},
   "outputs": [],
   "source": []
  }
 ],
 "metadata": {
  "kernelspec": {
   "display_name": "Python 3",
   "language": "python",
   "name": "python3"
  },
  "language_info": {
   "codemirror_mode": {
    "name": "ipython",
    "version": 3
   },
   "file_extension": ".py",
   "mimetype": "text/x-python",
   "name": "python",
   "nbconvert_exporter": "python",
   "pygments_lexer": "ipython3",
   "version": "3.12.0"
  }
 },
 "nbformat": 4,
 "nbformat_minor": 2
}
