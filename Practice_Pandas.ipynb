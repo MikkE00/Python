import pandas as pd

url = 'https://raw.githubusercontent.com/justmarkham/DAT8/master/data/chipotle.tsv'
chipo = pd.read_csv(url, sep = '\t')
chipo.head(3)
chipo.shape[0]
chipo.info
chipo.columns
chipo.index
column_data_types = chipo.dtypes
print(column_data_types)
column_data_type = chipo['item_price'].dtype
print(column_data_type)
chipo.sort_values(["item_price", "quantity"], ascending=[True, False])
subset_chipo = chipo["item_price"]
print(subset_chipo)
chipo['item_price'] = chipo['item_price'].str.replace('$', '').astype(float)

chipo['total'] = chipo['quantity'] * chipo['item_price']
chipo.head(20)
