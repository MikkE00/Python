{
 "cells": [
  {
   "cell_type": "code",
   "execution_count": 2,
   "metadata": {},
   "outputs": [
    {
     "name": "stdout",
     "output_type": "stream",
     "text": [
      "Congratulations! You guessed it right!\n"
     ]
    }
   ],
   "source": [
    "while True:\n",
    "        correct_name = \"Johan\"\n",
    "\n",
    "        user_guess = input(\"Please, guess my name: \").lower()\n",
    "\n",
    "        if user_guess == correct_name.lower():\n",
    "            print(\"Congratulations! You guessed it right!\")\n",
    "            break\n",
    "        else:\n",
    "            print(\"Incorrect guess. Try again.\")"
   ]
  }
 ],
 "metadata": {
  "kernelspec": {
   "display_name": "Python 3",
   "language": "python",
   "name": "python3"
  },
  "language_info": {
   "codemirror_mode": {
    "name": "ipython",
    "version": 3
   },
   "file_extension": ".py",
   "mimetype": "text/x-python",
   "name": "python",
   "nbconvert_exporter": "python",
   "pygments_lexer": "ipython3",
   "version": "3.12.0"
  }
 },
 "nbformat": 4,
 "nbformat_minor": 2
}
